{
  "cells": [
    {
      "cell_type": "code",
      "execution_count": 1,
      "metadata": {
        "id": "Yqo20Cw4UAIP"
      },
      "outputs": [],
      "source": [
        "import requests\n",
        "from bs4 import BeautifulSoup\n",
        "import csv\n",
        "import os"
      ]
    },
    {
      "cell_type": "code",
      "execution_count": 2,
      "metadata": {
        "id": "lKKJjSJ3U2_k"
      },
      "outputs": [],
      "source": [
        "# Function to extract course information\n",
        "def extract_course_info(html_content, url):\n",
        "    soup = BeautifulSoup(html_content, 'html.parser')\n",
        "\n",
        "    # Extract course name\n",
        "    course_name = soup.title.string if soup.title else \"Course name not found\"\n",
        "\n",
        "    # Extract key takeaways\n",
        "    key_takeaways = []\n",
        "    checklist_container = soup.find('div', class_='checklist__container')\n",
        "    if checklist_container:\n",
        "        takeaway_items = checklist_container.find_all('li', class_='checklist__list-item')\n",
        "        for item in takeaway_items:\n",
        "            p_tag = item.find('p')\n",
        "            if p_tag:\n",
        "                takeaway_text = p_tag.text.replace('\\uf00c', '').strip()\n",
        "                takeaway_text = takeaway_text.replace('fa fa-check', '').strip()\n",
        "                key_takeaways.append(takeaway_text)\n",
        "\n",
        "\n",
        "    course_time = soup.find('li', class_='text-icon__list-item')\n",
        "    course_time_text = course_time.find('h4').text if course_time else \"Course time not found\"\n",
        "\n",
        "    ratings = course_time.find_next_sibling('li').find('h4').text if course_time and course_time.find_next_sibling('li') else \"Ratings not found\"\n",
        "\n",
        "    difficulty_sibling = course_time.find_next_sibling('li').find_next_sibling('li') if course_time and course_time.find_next_sibling('li') else None\n",
        "    difficulty = difficulty_sibling.find('h4').text if difficulty_sibling else \"Difficulty level not found\"\n",
        "\n",
        "    # Extract course description\n",
        "    description = \"Description not found\"\n",
        "    description_section = soup.find('div', class_='rich-text__container')\n",
        "    if description_section:\n",
        "        first_p = description_section.find('p')\n",
        "        if first_p:\n",
        "            description = first_p.text.strip()\n",
        "\n",
        "    return {\n",
        "        \"course_name\": course_name,\n",
        "        \"key_takeaways\": ', '.join(key_takeaways) if key_takeaways else \"No key takeaways found\",\n",
        "        \"course_time\": course_time_text,\n",
        "        \"ratings\": ratings,\n",
        "        \"difficulty\": difficulty,\n",
        "        \"description\": description,\n",
        "        \"website\": url\n",
        "    }\n"
      ]
    },
    {
      "cell_type": "code",
      "execution_count": 3,
      "metadata": {
        "id": "JcYGKi6zUH3j"
      },
      "outputs": [],
      "source": [
        "# Function to append course data to a CSV file\n",
        "def append_to_csv(course_info, csv_filename=\"course_data.csv\"):\n",
        "    file_exists = os.path.isfile(csv_filename)\n",
        "\n",
        "    with open(csv_filename, mode='a', newline='', encoding='utf-8') as file:\n",
        "        writer = csv.writer(file)\n",
        "\n",
        "        if not file_exists:\n",
        "            writer.writerow([\"Course Name\", \"Key Takeaways\", \"Course Time\", \"Ratings\", \"Difficulty\", \"Description\", \"Website\"])\n",
        "\n",
        "        writer.writerow([\n",
        "            course_info[\"course_name\"],\n",
        "            course_info[\"key_takeaways\"],\n",
        "            course_info[\"course_time\"],\n",
        "            course_info[\"ratings\"],\n",
        "            course_info[\"difficulty\"],\n",
        "            course_info[\"description\"],\n",
        "            course_info[\"website\"]\n",
        "        ])\n"
      ]
    },
    {
      "cell_type": "code",
      "execution_count": 4,
      "metadata": {
        "colab": {
          "base_uri": "https://localhost:8080/"
        },
        "id": "f9BSMrR583ce",
        "outputId": "64bf1041-c659-47ef-e850-b61267071c02"
      },
      "outputs": [
        {
          "output_type": "stream",
          "name": "stdout",
          "text": [
            "78\n"
          ]
        }
      ],
      "source": [
        "base_url = 'https://url.website?page={}'\n",
        "headers = {'User-Agent': 'Mozilla/5.0 (Windows NT 10.0; Win64; x64) AppleWebKit/537.36 (KHTML, like Gecko) Chrome/91.0.4472.124 Safari/537.36'}\n",
        "\n",
        "course_urls = []\n",
        "current_page = 1\n",
        "\n",
        "while current_page < 10:\n",
        "  url = base_url.format(current_page)\n",
        "  response = requests.get(url, headers)\n",
        "\n",
        "  if response.status_code != 200:\n",
        "      print(f\"Failed to fetch page {current_page}. Stopping the scraper.\")\n",
        "      break\n",
        "\n",
        "  soup = BeautifulSoup(response.content, 'html.parser')\n",
        "  for link in soup.find_all(\"a\", attrs={'class':'course-card course-card__public published'}):\n",
        "    course_url = 'https://url.website' + link.get(\"href\")\n",
        "    course_urls.append(course_url)\n",
        "  current_page += 1\n",
        "print(len(course_urls))"
      ]
    },
    {
      "cell_type": "code",
      "execution_count": 5,
      "metadata": {
        "colab": {
          "base_uri": "https://localhost:8080/"
        },
        "id": "E-gDl3l6UMjQ",
        "outputId": "2cef055c-5069-4aa0-ec7f-f1424e8ba038"
      },
      "outputs": [
        {
          "output_type": "stream",
          "name": "stdout",
          "text": [
            "Processing https://courses.analyticsvidhya.com/courses/frameworks-for-effective-problem-solving...\n",
            "Data for https://courses.analyticsvidhya.com/courses/frameworks-for-effective-problem-solving has been successfully appended.\n",
            "Processing https://courses.analyticsvidhya.com/courses/your-ultimate-guide-to-becoming-an-agentic-ai-expert-by-2025...\n",
            "Data for https://courses.analyticsvidhya.com/courses/your-ultimate-guide-to-becoming-an-agentic-ai-expert-by-2025 has been successfully appended.\n",
            "Processing https://courses.analyticsvidhya.com/courses/a-comprehensive-learning-path-to-become-a-data-analyst-in-2025...\n",
            "Data for https://courses.analyticsvidhya.com/courses/a-comprehensive-learning-path-to-become-a-data-analyst-in-2025 has been successfully appended.\n",
            "Processing https://courses.analyticsvidhya.com/courses/reimagining-genai-common-mistakes-and-best-practices-for-success...\n",
            "Data for https://courses.analyticsvidhya.com/courses/reimagining-genai-common-mistakes-and-best-practices-for-success has been successfully appended.\n",
            "Processing https://courses.analyticsvidhya.com/courses/coding-a-chatgpt-style-language-model-from-scratch-in-pytorch...\n",
            "Data for https://courses.analyticsvidhya.com/courses/coding-a-chatgpt-style-language-model-from-scratch-in-pytorch has been successfully appended.\n",
            "Processing https://courses.analyticsvidhya.com/courses/mastering-multilingual-genai-open-weights-for-indic-languages...\n",
            "Data for https://courses.analyticsvidhya.com/courses/mastering-multilingual-genai-open-weights-for-indic-languages has been successfully appended.\n",
            "Processing https://courses.analyticsvidhya.com/courses/learning-autonomous-driving-behaviors-with-llms-and-rl...\n",
            "Data for https://courses.analyticsvidhya.com/courses/learning-autonomous-driving-behaviors-with-llms-and-rl has been successfully appended.\n",
            "Processing https://courses.analyticsvidhya.com/courses/genai-applied-to-quantitative-finance-for-control-implementation...\n",
            "Data for https://courses.analyticsvidhya.com/courses/genai-applied-to-quantitative-finance-for-control-implementation has been successfully appended.\n",
            "Processing https://courses.analyticsvidhya.com/courses/navigating-llm-tradeoffs-techniques-for-speed-cost-scale-and-accuracy...\n",
            "Data for https://courses.analyticsvidhya.com/courses/navigating-llm-tradeoffs-techniques-for-speed-cost-scale-and-accuracy has been successfully appended.\n",
            "Processing https://courses.analyticsvidhya.com/courses/creating-problem-solving-agents-using-genai-for-action-composition...\n",
            "Data for https://courses.analyticsvidhya.com/courses/creating-problem-solving-agents-using-genai-for-action-composition has been successfully appended.\n",
            "Processing https://courses.analyticsvidhya.com/courses/improving-real-world-rag-systems-key-challenges...\n",
            "Data for https://courses.analyticsvidhya.com/courses/improving-real-world-rag-systems-key-challenges has been successfully appended.\n",
            "Processing https://courses.analyticsvidhya.com/courses/choosing-the-right-LLM-for-your-business...\n",
            "Data for https://courses.analyticsvidhya.com/courses/choosing-the-right-LLM-for-your-business has been successfully appended.\n",
            "Processing https://courses.analyticsvidhya.com/courses/building-smarter-llms-with-mamba-and-state-space-model...\n",
            "Data for https://courses.analyticsvidhya.com/courses/building-smarter-llms-with-mamba-and-state-space-model has been successfully appended.\n",
            "Processing https://courses.analyticsvidhya.com/courses/genai-a-way-of-life...\n",
            "Data for https://courses.analyticsvidhya.com/courses/genai-a-way-of-life has been successfully appended.\n",
            "Processing https://courses.analyticsvidhya.com/courses/building-llm-applications-using-prompt-engineering-free...\n",
            "Data for https://courses.analyticsvidhya.com/courses/building-llm-applications-using-prompt-engineering-free has been successfully appended.\n",
            "Processing https://courses.analyticsvidhya.com/courses/building-your-first-computer-vision-model...\n",
            "Data for https://courses.analyticsvidhya.com/courses/building-your-first-computer-vision-model has been successfully appended.\n",
            "Processing https://courses.analyticsvidhya.com/courses/bagging-boosting-ML-Algorithms...\n",
            "Data for https://courses.analyticsvidhya.com/courses/bagging-boosting-ML-Algorithms has been successfully appended.\n",
            "Processing https://courses.analyticsvidhya.com/courses/midjourney_from_inspiration_to_implementation...\n",
            "Data for https://courses.analyticsvidhya.com/courses/midjourney_from_inspiration_to_implementation has been successfully appended.\n",
            "Processing https://courses.analyticsvidhya.com/courses/free-understanding-linear-regression...\n",
            "Data for https://courses.analyticsvidhya.com/courses/free-understanding-linear-regression has been successfully appended.\n",
            "Processing https://courses.analyticsvidhya.com/courses/the-working-of-neural-networks...\n",
            "Data for https://courses.analyticsvidhya.com/courses/the-working-of-neural-networks has been successfully appended.\n",
            "Processing https://courses.analyticsvidhya.com/courses/free-unsupervised-ml-guide...\n",
            "Data for https://courses.analyticsvidhya.com/courses/free-unsupervised-ml-guide has been successfully appended.\n",
            "Processing https://courses.analyticsvidhya.com/courses/building-first-rag-systems-using-llamaindex...\n",
            "Data for https://courses.analyticsvidhya.com/courses/building-first-rag-systems-using-llamaindex has been successfully appended.\n",
            "Processing https://courses.analyticsvidhya.com/courses/data-preprocessing...\n",
            "Data for https://courses.analyticsvidhya.com/courses/data-preprocessing has been successfully appended.\n",
            "Processing https://courses.analyticsvidhya.com/courses/exploring-stability-ai...\n",
            "Data for https://courses.analyticsvidhya.com/courses/exploring-stability-ai has been successfully appended.\n",
            "Processing https://courses.analyticsvidhya.com/courses/free-building-textclassification-natural-language-processing...\n",
            "Data for https://courses.analyticsvidhya.com/courses/free-building-textclassification-natural-language-processing has been successfully appended.\n",
            "Processing https://courses.analyticsvidhya.com/courses/getting-started-with-llms...\n",
            "Data for https://courses.analyticsvidhya.com/courses/getting-started-with-llms has been successfully appended.\n",
            "Processing https://courses.analyticsvidhya.com/courses/introduction-to-generative-ai...\n",
            "Data for https://courses.analyticsvidhya.com/courses/introduction-to-generative-ai has been successfully appended.\n",
            "Processing https://courses.analyticsvidhya.com/courses/exploring-natural-language-processing-nlp-using-deep-learning...\n",
            "Data for https://courses.analyticsvidhya.com/courses/exploring-natural-language-processing-nlp-using-deep-learning has been successfully appended.\n",
            "Processing https://courses.analyticsvidhya.com/courses/getting-started-with-deep-learning...\n",
            "Data for https://courses.analyticsvidhya.com/courses/getting-started-with-deep-learning has been successfully appended.\n",
            "Processing https://courses.analyticsvidhya.com/courses/nano-course-dreambooth-stable-diffusion-for-custom-images...\n",
            "Data for https://courses.analyticsvidhya.com/courses/nano-course-dreambooth-stable-diffusion-for-custom-images has been successfully appended.\n",
            "Processing https://courses.analyticsvidhya.com/courses/a-comprehensive-learning-path-for-deep-learning-in-2023...\n",
            "Data for https://courses.analyticsvidhya.com/courses/a-comprehensive-learning-path-for-deep-learning-in-2023 has been successfully appended.\n",
            "Processing https://courses.analyticsvidhya.com/courses/a-comprehensive-learning-path-to-become-a-data-scientist-in-twenty-twenty-four...\n",
            "Data for https://courses.analyticsvidhya.com/courses/a-comprehensive-learning-path-to-become-a-data-scientist-in-twenty-twenty-four has been successfully appended.\n",
            "Processing https://courses.analyticsvidhya.com/courses/building-large-language-models-for-code...\n",
            "Data for https://courses.analyticsvidhya.com/courses/building-large-language-models-for-code has been successfully appended.\n",
            "Processing https://courses.analyticsvidhya.com/courses/cutting-edge-llm-tricks...\n",
            "Data for https://courses.analyticsvidhya.com/courses/cutting-edge-llm-tricks has been successfully appended.\n",
            "Processing https://courses.analyticsvidhya.com/bundles/certified-ai-ml-blackbelt-plus...\n",
            "Data for https://courses.analyticsvidhya.com/bundles/certified-ai-ml-blackbelt-plus has been successfully appended.\n",
            "Processing https://courses.analyticsvidhya.com/courses/machine-learning-summer-training...\n",
            "Data for https://courses.analyticsvidhya.com/courses/machine-learning-summer-training has been successfully appended.\n",
            "Processing https://courses.analyticsvidhya.com/courses/ai-ethics-fractal...\n",
            "Data for https://courses.analyticsvidhya.com/courses/ai-ethics-fractal has been successfully appended.\n",
            "Processing https://courses.analyticsvidhya.com/courses/a-comprehensive-learning-path-to-become-a-data-engineer-in-2022...\n",
            "Data for https://courses.analyticsvidhya.com/courses/a-comprehensive-learning-path-to-become-a-data-engineer-in-2022 has been successfully appended.\n",
            "Processing https://courses.analyticsvidhya.com/bundles/certified-business-analytics-program...\n",
            "Data for https://courses.analyticsvidhya.com/bundles/certified-business-analytics-program has been successfully appended.\n",
            "Processing https://courses.analyticsvidhya.com/bundles/certified-machine-learning-master-s-program-mlmp...\n",
            "Data for https://courses.analyticsvidhya.com/bundles/certified-machine-learning-master-s-program-mlmp has been successfully appended.\n",
            "Processing https://courses.analyticsvidhya.com/bundles/certified-natural-language-processing-master-s-program...\n",
            "Data for https://courses.analyticsvidhya.com/bundles/certified-natural-language-processing-master-s-program has been successfully appended.\n",
            "Processing https://courses.analyticsvidhya.com/bundles/certified-computer-vision-masters-program...\n",
            "Data for https://courses.analyticsvidhya.com/bundles/certified-computer-vision-masters-program has been successfully appended.\n",
            "Processing https://courses.analyticsvidhya.com/courses/applied-machine-learning-beginner-to-professional...\n",
            "Data for https://courses.analyticsvidhya.com/courses/applied-machine-learning-beginner-to-professional has been successfully appended.\n",
            "Processing https://courses.analyticsvidhya.com/courses/ace-data-science-interviews...\n",
            "Data for https://courses.analyticsvidhya.com/courses/ace-data-science-interviews has been successfully appended.\n",
            "Processing https://courses.analyticsvidhya.com/courses/writing-powerful-data-science-articles...\n",
            "Data for https://courses.analyticsvidhya.com/courses/writing-powerful-data-science-articles has been successfully appended.\n",
            "Processing https://courses.analyticsvidhya.com/courses/Machine-Learning-Certification-Course-for-Beginners...\n",
            "Data for https://courses.analyticsvidhya.com/courses/Machine-Learning-Certification-Course-for-Beginners has been successfully appended.\n",
            "Processing https://courses.analyticsvidhya.com/courses/data-science-career-conclave...\n",
            "Data for https://courses.analyticsvidhya.com/courses/data-science-career-conclave has been successfully appended.\n",
            "Processing https://courses.analyticsvidhya.com/courses/top-data-science-projects-for-analysts-and-data-scientists...\n",
            "Data for https://courses.analyticsvidhya.com/courses/top-data-science-projects-for-analysts-and-data-scientists has been successfully appended.\n",
            "Processing https://courses.analyticsvidhya.com/courses/getting-started-with-git-and-github-for-data-science-professionals...\n",
            "Data for https://courses.analyticsvidhya.com/courses/getting-started-with-git-and-github-for-data-science-professionals has been successfully appended.\n",
            "Processing https://courses.analyticsvidhya.com/bundles/machine-learning-starter-program...\n",
            "Data for https://courses.analyticsvidhya.com/bundles/machine-learning-starter-program has been successfully appended.\n",
            "Processing https://courses.analyticsvidhya.com/courses/data-science-hacks-tips-and-tricks...\n",
            "Data for https://courses.analyticsvidhya.com/courses/data-science-hacks-tips-and-tricks has been successfully appended.\n",
            "Processing https://courses.analyticsvidhya.com/courses/introduction-to-analytics...\n",
            "Data for https://courses.analyticsvidhya.com/courses/introduction-to-analytics has been successfully appended.\n",
            "Processing https://courses.analyticsvidhya.com/courses/introduction-to-pytorch-for-deeplearning...\n",
            "Data for https://courses.analyticsvidhya.com/courses/introduction-to-pytorch-for-deeplearning has been successfully appended.\n",
            "Processing https://courses.analyticsvidhya.com/bundles/introductory-data-science-for-business-managers...\n",
            "Data for https://courses.analyticsvidhya.com/bundles/introductory-data-science-for-business-managers has been successfully appended.\n",
            "Processing https://courses.analyticsvidhya.com/courses/Intro-to-NLP...\n",
            "Data for https://courses.analyticsvidhya.com/courses/Intro-to-NLP has been successfully appended.\n",
            "Processing https://courses.analyticsvidhya.com/courses/getting-started-with-decision-trees...\n",
            "Data for https://courses.analyticsvidhya.com/courses/getting-started-with-decision-trees has been successfully appended.\n",
            "Processing https://courses.analyticsvidhya.com/courses/introduction-to-data-science...\n",
            "Data for https://courses.analyticsvidhya.com/courses/introduction-to-data-science has been successfully appended.\n",
            "Processing https://courses.analyticsvidhya.com/courses/loan-prediction-practice-problem-using-python...\n",
            "Data for https://courses.analyticsvidhya.com/courses/loan-prediction-practice-problem-using-python has been successfully appended.\n",
            "Processing https://courses.analyticsvidhya.com/courses/big-mart-sales-prediction-using-r...\n",
            "Data for https://courses.analyticsvidhya.com/courses/big-mart-sales-prediction-using-r has been successfully appended.\n",
            "Processing https://courses.analyticsvidhya.com/courses/twitter-sentiment-analysis...\n",
            "Data for https://courses.analyticsvidhya.com/courses/twitter-sentiment-analysis has been successfully appended.\n",
            "Processing https://courses.analyticsvidhya.com/courses/pandas-for-data-analysis-in-python...\n",
            "Data for https://courses.analyticsvidhya.com/courses/pandas-for-data-analysis-in-python has been successfully appended.\n",
            "Processing https://courses.analyticsvidhya.com/courses/support-vector-machine-svm-in-python-and-r...\n",
            "Data for https://courses.analyticsvidhya.com/courses/support-vector-machine-svm-in-python-and-r has been successfully appended.\n",
            "Processing https://courses.analyticsvidhya.com/courses/evaluation-metrics-for-machine-learning-models...\n",
            "Data for https://courses.analyticsvidhya.com/courses/evaluation-metrics-for-machine-learning-models has been successfully appended.\n",
            "Processing https://courses.analyticsvidhya.com/courses/Fundamentals-of-Regression-Analysis...\n",
            "Data for https://courses.analyticsvidhya.com/courses/Fundamentals-of-Regression-Analysis has been successfully appended.\n",
            "Processing https://courses.analyticsvidhya.com/courses/get-started-with-scikit-learn-sklearn...\n",
            "Data for https://courses.analyticsvidhya.com/courses/get-started-with-scikit-learn-sklearn has been successfully appended.\n",
            "Processing https://courses.analyticsvidhya.com/courses/convolutional-neural-networks-cnn-from-scratch...\n",
            "Data for https://courses.analyticsvidhya.com/courses/convolutional-neural-networks-cnn-from-scratch has been successfully appended.\n",
            "Processing https://courses.analyticsvidhya.com/courses/dimensionality-reduction-for-machine-learning...\n",
            "Data for https://courses.analyticsvidhya.com/courses/dimensionality-reduction-for-machine-learning has been successfully appended.\n",
            "Processing https://courses.analyticsvidhya.com/courses/K-Nearest-Neighbors-KNN-Algorithm...\n",
            "Data for https://courses.analyticsvidhya.com/courses/K-Nearest-Neighbors-KNN-Algorithm has been successfully appended.\n",
            "Processing https://courses.analyticsvidhya.com/courses/ensemble-learning-and-ensemble-learning-techniques...\n",
            "Data for https://courses.analyticsvidhya.com/courses/ensemble-learning-and-ensemble-learning-techniques has been successfully appended.\n",
            "Processing https://courses.analyticsvidhya.com/courses/linear-programming...\n",
            "Data for https://courses.analyticsvidhya.com/courses/linear-programming has been successfully appended.\n",
            "Processing https://courses.analyticsvidhya.com/courses/naive-bayes...\n",
            "Data for https://courses.analyticsvidhya.com/courses/naive-bayes has been successfully appended.\n",
            "Processing https://courses.analyticsvidhya.com/courses/learn-swift-for-data-science...\n",
            "Data for https://courses.analyticsvidhya.com/courses/learn-swift-for-data-science has been successfully appended.\n",
            "Processing https://courses.analyticsvidhya.com/courses/introduction-to-web-scraping...\n",
            "Data for https://courses.analyticsvidhya.com/courses/introduction-to-web-scraping has been successfully appended.\n",
            "Processing https://courses.analyticsvidhya.com/courses/tableau-for-beginners...\n",
            "Data for https://courses.analyticsvidhya.com/courses/tableau-for-beginners has been successfully appended.\n",
            "Processing https://courses.analyticsvidhya.com/courses/getting-started-with-neural-networks...\n",
            "Data for https://courses.analyticsvidhya.com/courses/getting-started-with-neural-networks has been successfully appended.\n",
            "Processing https://courses.analyticsvidhya.com/courses/introduction-to-ai-ml...\n",
            "Data for https://courses.analyticsvidhya.com/courses/introduction-to-ai-ml has been successfully appended.\n",
            "Processing https://courses.analyticsvidhya.com/courses/winning-data-science-hackathons-learn-from-elite-data-scientists...\n",
            "Data for https://courses.analyticsvidhya.com/courses/winning-data-science-hackathons-learn-from-elite-data-scientists has been successfully appended.\n",
            "Processing https://courses.analyticsvidhya.com/courses/hypothesis-testing-for-data-science-and-analytics...\n",
            "Data for https://courses.analyticsvidhya.com/courses/hypothesis-testing-for-data-science-and-analytics has been successfully appended.\n"
          ]
        }
      ],
      "source": [
        "for url in course_urls:\n",
        "    try:\n",
        "        print(f\"Processing {url}...\")\n",
        "        response = requests.get(url, headers=headers)\n",
        "        response.raise_for_status()  # Check for HTTP errors\n",
        "\n",
        "        html = response.content\n",
        "        course_info = extract_course_info(html, url)\n",
        "        append_to_csv(course_info)\n",
        "\n",
        "        print(f\"Data for {url} has been successfully appended.\")\n",
        "    except Exception as e:\n",
        "        print(f\"Failed to process {url}: {e}\")\n"
      ]
    },
    {
      "cell_type": "code",
      "execution_count": 6,
      "metadata": {
        "colab": {
          "base_uri": "https://localhost:8080/",
          "height": 17
        },
        "id": "QEOOoLGOUOku",
        "outputId": "a2e1ad1e-25de-4ee6-abf3-53244bcad515"
      },
      "outputs": [
        {
          "output_type": "display_data",
          "data": {
            "text/plain": [
              "<IPython.core.display.Javascript object>"
            ],
            "application/javascript": [
              "\n",
              "    async function download(id, filename, size) {\n",
              "      if (!google.colab.kernel.accessAllowed) {\n",
              "        return;\n",
              "      }\n",
              "      const div = document.createElement('div');\n",
              "      const label = document.createElement('label');\n",
              "      label.textContent = `Downloading \"${filename}\": `;\n",
              "      div.appendChild(label);\n",
              "      const progress = document.createElement('progress');\n",
              "      progress.max = size;\n",
              "      div.appendChild(progress);\n",
              "      document.body.appendChild(div);\n",
              "\n",
              "      const buffers = [];\n",
              "      let downloaded = 0;\n",
              "\n",
              "      const channel = await google.colab.kernel.comms.open(id);\n",
              "      // Send a message to notify the kernel that we're ready.\n",
              "      channel.send({})\n",
              "\n",
              "      for await (const message of channel.messages) {\n",
              "        // Send a message to notify the kernel that we're ready.\n",
              "        channel.send({})\n",
              "        if (message.buffers) {\n",
              "          for (const buffer of message.buffers) {\n",
              "            buffers.push(buffer);\n",
              "            downloaded += buffer.byteLength;\n",
              "            progress.value = downloaded;\n",
              "          }\n",
              "        }\n",
              "      }\n",
              "      const blob = new Blob(buffers, {type: 'application/binary'});\n",
              "      const a = document.createElement('a');\n",
              "      a.href = window.URL.createObjectURL(blob);\n",
              "      a.download = filename;\n",
              "      div.appendChild(a);\n",
              "      a.click();\n",
              "      div.remove();\n",
              "    }\n",
              "  "
            ]
          },
          "metadata": {}
        },
        {
          "output_type": "display_data",
          "data": {
            "text/plain": [
              "<IPython.core.display.Javascript object>"
            ],
            "application/javascript": [
              "download(\"download_7d364c76-8353-4bfb-a26b-add8f556dfc5\", \"course_data.csv\", 56394)"
            ]
          },
          "metadata": {}
        }
      ],
      "source": [
        "# Download the CSV file to your local machine\n",
        "from google.colab import files\n",
        "files.download(\"course_data.csv\")\n"
      ]
    },
    {
      "cell_type": "code",
      "source": [],
      "metadata": {
        "id": "Z2iAt5eFlG5L"
      },
      "execution_count": null,
      "outputs": []
    }
  ],
  "metadata": {
    "colab": {
      "provenance": []
    },
    "kernelspec": {
      "display_name": "Python 3 (ipykernel)",
      "language": "python",
      "name": "python3"
    },
    "language_info": {
      "codemirror_mode": {
        "name": "ipython",
        "version": 3
      },
      "file_extension": ".py",
      "mimetype": "text/x-python",
      "name": "python",
      "nbconvert_exporter": "python",
      "pygments_lexer": "ipython3",
      "version": "3.12.7"
    }
  },
  "nbformat": 4,
  "nbformat_minor": 0
}
