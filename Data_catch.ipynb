{
 "cells": [
  {
   "cell_type": "code",
   "execution_count": null,
   "metadata": {
    "id": "Yqo20Cw4UAIP"
   },
   "outputs": [],
   "source": [
    "import requests\n",
    "from bs4 import BeautifulSoup\n",
    "import csv\n",
    "import os"
   ]
  },
  {
   "cell_type": "code",
   "execution_count": null,
   "metadata": {
    "id": "lKKJjSJ3U2_k"
   },
   "outputs": [],
   "source": [
    "# Function to extract course information\n",
    "def extract_course_info(html_content, url):\n",
    "    soup = BeautifulSoup(html_content, 'html.parser')\n",
    "\n",
    "    # Extract course name\n",
    "    course_name = soup.title.string if soup.title else \"Course name not found\"\n",
    "\n",
    "    # Extract key takeaways\n",
    "    key_takeaways = []\n",
    "    checklist_container = soup.find('div', class_='checklist__container')\n",
    "    if checklist_container:\n",
    "        takeaway_items = checklist_container.find_all('li', class_='checklist__list-item')\n",
    "        for item in takeaway_items:\n",
    "            p_tag = item.find('p')\n",
    "            if p_tag:\n",
    "                takeaway_text = p_tag.text.replace('\\uf00c', '').strip()\n",
    "                takeaway_text = takeaway_text.replace('fa fa-check', '').strip()\n",
    "                key_takeaways.append(takeaway_text)\n",
    "\n",
    "    # Extract course description\n",
    "    description = \"Description not found\"\n",
    "    description_section = soup.find('div', class_='rich-text__container')\n",
    "    if description_section:\n",
    "        first_p = description_section.find('p')\n",
    "        if first_p:\n",
    "            description = first_p.text.strip()\n",
    "\n",
    "    return {\n",
    "        \"course_name\": course_name,\n",
    "        \"key_takeaways\": ', '.join(key_takeaways) if key_takeaways else \"No key takeaways found\",\n",
    "        \"description\": description,\n",
    "        \"website\": url\n",
    "    }\n"
   ]
  },
  {
   "cell_type": "code",
   "execution_count": null,
   "metadata": {
    "id": "JcYGKi6zUH3j"
   },
   "outputs": [],
   "source": [
    "# Function to append course data to a CSV file\n",
    "def append_to_csv(course_info, csv_filename=\"course_data.csv\"):\n",
    "    file_exists = os.path.isfile(csv_filename)\n",
    "\n",
    "    with open(csv_filename, mode='a', newline='', encoding='utf-8') as file:\n",
    "        writer = csv.writer(file)\n",
    "\n",
    "        if not file_exists:\n",
    "            writer.writerow([\"Course Name\", \"Description\", \"Website\"])\n",
    "\n",
    "        writer.writerow([\n",
    "            course_info[\"course_name\"],\n",
    "            course_info[\"description\"],\n",
    "            course_info[\"website\"]\n",
    "        ])\n"
   ]
  },
  {
   "cell_type": "code",
   "execution_count": null,
   "metadata": {
    "colab": {
     "base_uri": "https://localhost:8080/"
    },
    "id": "f9BSMrR583ce",
    "outputId": "84c8eef1-e12b-40cd-9e02-36fb219ac4b0"
   },
   "outputs": [
    {
     "name": "stdout",
     "output_type": "stream",
     "text": [
      "78\n"
     ]
    }
   ],
   "source": [
    "base_url = 'https://courses.analyticsvidhya.com/collections/courses?page={}'\n",
    "headers = {'User-Agent': 'Mozilla/5.0 (Windows NT 10.0; Win64; x64) AppleWebKit/537.36 (KHTML, like Gecko) Chrome/91.0.4472.124 Safari/537.36'}\n",
    "\n",
    "course_urls = []\n",
    "current_page = 1\n",
    "\n",
    "while current_page < 10:\n",
    "  url = base_url.format(current_page)\n",
    "  response = requests.get(url, headers)\n",
    "\n",
    "  if response.status_code != 200:\n",
    "      print(f\"Failed to fetch page {current_page}. Stopping the scraper.\")\n",
    "      break\n",
    "\n",
    "  soup = BeautifulSoup(response.content, 'html.parser')\n",
    "  for link in soup.find_all(\"a\", attrs={'class':'course-card course-card__public published'}):\n",
    "    course_url = 'https://courses.analyticsvidhya.com' + link.get(\"href\")\n",
    "    course_urls.append(course_url)\n",
    "  current_page += 1\n",
    "print(len(course_urls))"
   ]
  },
  {
   "cell_type": "code",
   "execution_count": null,
   "metadata": {
    "colab": {
     "base_uri": "https://localhost:8080/"
    },
    "id": "E-gDl3l6UMjQ",
    "outputId": "988d2ab1-7d4f-46f0-ccab-af5f8fafefd7"
   },
   "outputs": [
    {
     "name": "stdout",
     "output_type": "stream",
     "text": [
      "Processing https://courses.analyticsvidhya.com/courses/frameworks-for-effective-problem-solving...\n",
      "Data for https://courses.analyticsvidhya.com/courses/frameworks-for-effective-problem-solving has been successfully appended.\n",
      "Processing https://courses.analyticsvidhya.com/courses/your-ultimate-guide-to-becoming-an-agentic-ai-expert-by-2025...\n",
      "Data for https://courses.analyticsvidhya.com/courses/your-ultimate-guide-to-becoming-an-agentic-ai-expert-by-2025 has been successfully appended.\n",
      "Processing https://courses.analyticsvidhya.com/courses/a-comprehensive-learning-path-to-become-a-data-analyst-in-2025...\n",
      "Data for https://courses.analyticsvidhya.com/courses/a-comprehensive-learning-path-to-become-a-data-analyst-in-2025 has been successfully appended.\n",
      "Processing https://courses.analyticsvidhya.com/courses/reimagining-genai-common-mistakes-and-best-practices-for-success...\n",
      "Data for https://courses.analyticsvidhya.com/courses/reimagining-genai-common-mistakes-and-best-practices-for-success has been successfully appended.\n",
      "Processing https://courses.analyticsvidhya.com/courses/coding-a-chatgpt-style-language-model-from-scratch-in-pytorch...\n",
      "Data for https://courses.analyticsvidhya.com/courses/coding-a-chatgpt-style-language-model-from-scratch-in-pytorch has been successfully appended.\n",
      "Processing https://courses.analyticsvidhya.com/courses/mastering-multilingual-genai-open-weights-for-indic-languages...\n",
      "Data for https://courses.analyticsvidhya.com/courses/mastering-multilingual-genai-open-weights-for-indic-languages has been successfully appended.\n",
      "Processing https://courses.analyticsvidhya.com/courses/learning-autonomous-driving-behaviors-with-llms-and-rl...\n",
      "Data for https://courses.analyticsvidhya.com/courses/learning-autonomous-driving-behaviors-with-llms-and-rl has been successfully appended.\n",
      "Processing https://courses.analyticsvidhya.com/courses/genai-applied-to-quantitative-finance-for-control-implementation...\n",
      "Data for https://courses.analyticsvidhya.com/courses/genai-applied-to-quantitative-finance-for-control-implementation has been successfully appended.\n",
      "Processing https://courses.analyticsvidhya.com/courses/navigating-llm-tradeoffs-techniques-for-speed-cost-scale-and-accuracy...\n",
      "Data for https://courses.analyticsvidhya.com/courses/navigating-llm-tradeoffs-techniques-for-speed-cost-scale-and-accuracy has been successfully appended.\n",
      "Processing https://courses.analyticsvidhya.com/courses/creating-problem-solving-agents-using-genai-for-action-composition...\n",
      "Data for https://courses.analyticsvidhya.com/courses/creating-problem-solving-agents-using-genai-for-action-composition has been successfully appended.\n",
      "Processing https://courses.analyticsvidhya.com/courses/improving-real-world-rag-systems-key-challenges...\n",
      "Data for https://courses.analyticsvidhya.com/courses/improving-real-world-rag-systems-key-challenges has been successfully appended.\n",
      "Processing https://courses.analyticsvidhya.com/courses/choosing-the-right-LLM-for-your-business...\n",
      "Data for https://courses.analyticsvidhya.com/courses/choosing-the-right-LLM-for-your-business has been successfully appended.\n",
      "Processing https://courses.analyticsvidhya.com/courses/building-smarter-llms-with-mamba-and-state-space-model...\n",
      "Data for https://courses.analyticsvidhya.com/courses/building-smarter-llms-with-mamba-and-state-space-model has been successfully appended.\n",
      "Processing https://courses.analyticsvidhya.com/courses/genai-a-way-of-life...\n",
      "Data for https://courses.analyticsvidhya.com/courses/genai-a-way-of-life has been successfully appended.\n",
      "Processing https://courses.analyticsvidhya.com/courses/building-llm-applications-using-prompt-engineering-free...\n",
      "Data for https://courses.analyticsvidhya.com/courses/building-llm-applications-using-prompt-engineering-free has been successfully appended.\n",
      "Processing https://courses.analyticsvidhya.com/courses/building-your-first-computer-vision-model...\n",
      "Data for https://courses.analyticsvidhya.com/courses/building-your-first-computer-vision-model has been successfully appended.\n",
      "Processing https://courses.analyticsvidhya.com/courses/bagging-boosting-ML-Algorithms...\n",
      "Data for https://courses.analyticsvidhya.com/courses/bagging-boosting-ML-Algorithms has been successfully appended.\n",
      "Processing https://courses.analyticsvidhya.com/courses/midjourney_from_inspiration_to_implementation...\n",
      "Data for https://courses.analyticsvidhya.com/courses/midjourney_from_inspiration_to_implementation has been successfully appended.\n",
      "Processing https://courses.analyticsvidhya.com/courses/free-understanding-linear-regression...\n",
      "Data for https://courses.analyticsvidhya.com/courses/free-understanding-linear-regression has been successfully appended.\n",
      "Processing https://courses.analyticsvidhya.com/courses/the-working-of-neural-networks...\n",
      "Data for https://courses.analyticsvidhya.com/courses/the-working-of-neural-networks has been successfully appended.\n",
      "Processing https://courses.analyticsvidhya.com/courses/free-unsupervised-ml-guide...\n",
      "Data for https://courses.analyticsvidhya.com/courses/free-unsupervised-ml-guide has been successfully appended.\n",
      "Processing https://courses.analyticsvidhya.com/courses/building-first-rag-systems-using-llamaindex...\n",
      "Data for https://courses.analyticsvidhya.com/courses/building-first-rag-systems-using-llamaindex has been successfully appended.\n",
      "Processing https://courses.analyticsvidhya.com/courses/data-preprocessing...\n",
      "Data for https://courses.analyticsvidhya.com/courses/data-preprocessing has been successfully appended.\n",
      "Processing https://courses.analyticsvidhya.com/courses/exploring-stability-ai...\n",
      "Data for https://courses.analyticsvidhya.com/courses/exploring-stability-ai has been successfully appended.\n",
      "Processing https://courses.analyticsvidhya.com/courses/free-building-textclassification-natural-language-processing...\n",
      "Data for https://courses.analyticsvidhya.com/courses/free-building-textclassification-natural-language-processing has been successfully appended.\n",
      "Processing https://courses.analyticsvidhya.com/courses/getting-started-with-llms...\n",
      "Data for https://courses.analyticsvidhya.com/courses/getting-started-with-llms has been successfully appended.\n",
      "Processing https://courses.analyticsvidhya.com/courses/introduction-to-generative-ai...\n",
      "Data for https://courses.analyticsvidhya.com/courses/introduction-to-generative-ai has been successfully appended.\n",
      "Processing https://courses.analyticsvidhya.com/courses/exploring-natural-language-processing-nlp-using-deep-learning...\n",
      "Data for https://courses.analyticsvidhya.com/courses/exploring-natural-language-processing-nlp-using-deep-learning has been successfully appended.\n",
      "Processing https://courses.analyticsvidhya.com/courses/getting-started-with-deep-learning...\n",
      "Data for https://courses.analyticsvidhya.com/courses/getting-started-with-deep-learning has been successfully appended.\n",
      "Processing https://courses.analyticsvidhya.com/courses/nano-course-dreambooth-stable-diffusion-for-custom-images...\n",
      "Data for https://courses.analyticsvidhya.com/courses/nano-course-dreambooth-stable-diffusion-for-custom-images has been successfully appended.\n",
      "Processing https://courses.analyticsvidhya.com/courses/a-comprehensive-learning-path-for-deep-learning-in-2023...\n",
      "Data for https://courses.analyticsvidhya.com/courses/a-comprehensive-learning-path-for-deep-learning-in-2023 has been successfully appended.\n",
      "Processing https://courses.analyticsvidhya.com/courses/a-comprehensive-learning-path-to-become-a-data-scientist-in-twenty-twenty-four...\n",
      "Data for https://courses.analyticsvidhya.com/courses/a-comprehensive-learning-path-to-become-a-data-scientist-in-twenty-twenty-four has been successfully appended.\n",
      "Processing https://courses.analyticsvidhya.com/courses/building-large-language-models-for-code...\n",
      "Data for https://courses.analyticsvidhya.com/courses/building-large-language-models-for-code has been successfully appended.\n",
      "Processing https://courses.analyticsvidhya.com/courses/cutting-edge-llm-tricks...\n",
      "Data for https://courses.analyticsvidhya.com/courses/cutting-edge-llm-tricks has been successfully appended.\n",
      "Processing https://courses.analyticsvidhya.com/bundles/certified-ai-ml-blackbelt-plus...\n",
      "Data for https://courses.analyticsvidhya.com/bundles/certified-ai-ml-blackbelt-plus has been successfully appended.\n",
      "Processing https://courses.analyticsvidhya.com/courses/machine-learning-summer-training...\n",
      "Data for https://courses.analyticsvidhya.com/courses/machine-learning-summer-training has been successfully appended.\n"
     ]
    }
   ],
   "source": [
    "for url in course_urls:\n",
    "    try:\n",
    "        print(f\"Processing {url}...\")\n",
    "        response = requests.get(url, headers=headers)\n",
    "        response.raise_for_status()  # Check for HTTP errors\n",
    "\n",
    "        html = response.content\n",
    "        course_info = extract_course_info(html, url)\n",
    "        append_to_csv(course_info)\n",
    "\n",
    "        print(f\"Data for {url} has been successfully appended.\")\n",
    "    except Exception as e:\n",
    "        print(f\"Failed to process {url}: {e}\")\n"
   ]
  },
  {
   "cell_type": "code",
   "execution_count": null,
   "metadata": {
    "colab": {
     "base_uri": "https://localhost:8080/",
     "height": 17
    },
    "id": "QEOOoLGOUOku",
    "outputId": "79596611-4512-4876-9356-eced3b46d0a0"
   },
   "outputs": [
    {
     "data": {
      "application/javascript": [
       "\n",
       "    async function download(id, filename, size) {\n",
       "      if (!google.colab.kernel.accessAllowed) {\n",
       "        return;\n",
       "      }\n",
       "      const div = document.createElement('div');\n",
       "      const label = document.createElement('label');\n",
       "      label.textContent = `Downloading \"${filename}\": `;\n",
       "      div.appendChild(label);\n",
       "      const progress = document.createElement('progress');\n",
       "      progress.max = size;\n",
       "      div.appendChild(progress);\n",
       "      document.body.appendChild(div);\n",
       "\n",
       "      const buffers = [];\n",
       "      let downloaded = 0;\n",
       "\n",
       "      const channel = await google.colab.kernel.comms.open(id);\n",
       "      // Send a message to notify the kernel that we're ready.\n",
       "      channel.send({})\n",
       "\n",
       "      for await (const message of channel.messages) {\n",
       "        // Send a message to notify the kernel that we're ready.\n",
       "        channel.send({})\n",
       "        if (message.buffers) {\n",
       "          for (const buffer of message.buffers) {\n",
       "            buffers.push(buffer);\n",
       "            downloaded += buffer.byteLength;\n",
       "            progress.value = downloaded;\n",
       "          }\n",
       "        }\n",
       "      }\n",
       "      const blob = new Blob(buffers, {type: 'application/binary'});\n",
       "      const a = document.createElement('a');\n",
       "      a.href = window.URL.createObjectURL(blob);\n",
       "      a.download = filename;\n",
       "      div.appendChild(a);\n",
       "      a.click();\n",
       "      div.remove();\n",
       "    }\n",
       "  "
      ],
      "text/plain": [
       "<IPython.core.display.Javascript object>"
      ]
     },
     "metadata": {},
     "output_type": "display_data"
    },
    {
     "data": {
      "application/javascript": [
       "download(\"download_a89483c7-ad3e-4d95-b6bf-e9690cfd395f\", \"course_data.csv\", 5282)"
      ],
      "text/plain": [
       "<IPython.core.display.Javascript object>"
      ]
     },
     "metadata": {},
     "output_type": "display_data"
    }
   ],
   "source": [
    "# Download the CSV file to your local machine\n",
    "from google.colab import files\n",
    "files.download(\"course_data.csv\")\n"
   ]
  }
 ],
 "metadata": {
  "colab": {
   "provenance": []
  },
  "kernelspec": {
   "display_name": "Python 3 (ipykernel)",
   "language": "python",
   "name": "python3"
  },
  "language_info": {
   "codemirror_mode": {
    "name": "ipython",
    "version": 3
   },
   "file_extension": ".py",
   "mimetype": "text/x-python",
   "name": "python",
   "nbconvert_exporter": "python",
   "pygments_lexer": "ipython3",
   "version": "3.12.7"
  }
 },
 "nbformat": 4,
 "nbformat_minor": 4
}
